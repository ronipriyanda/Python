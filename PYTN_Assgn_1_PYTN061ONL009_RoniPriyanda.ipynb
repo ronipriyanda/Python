{
 "cells": [
  {
   "cell_type": "markdown",
   "id": "04093622-f30c-4464-85c0-996b89ded5fc",
   "metadata": {},
   "source": [
    "# ASSIGNMENT 1\n",
    "\n"
   ]
  },
  {
   "cell_type": "code",
   "execution_count": 1,
   "id": "ea709331-12f1-4c63-ba3e-5e4b2764f78e",
   "metadata": {},
   "outputs": [],
   "source": [
    "import numpy as np\n",
    "import pandas as pd"
   ]
  },
  {
   "cell_type": "code",
   "execution_count": 2,
   "id": "3900b3aa-4428-4c2d-ac76-9bdd0719337e",
   "metadata": {},
   "outputs": [
    {
     "name": "stdout",
     "output_type": "stream",
     "text": [
      "          lsoa_code     borough               major_category  \\\n",
      "0         E01001116     Croydon                     Burglary   \n",
      "1         E01001646   Greenwich  Violence Against the Person   \n",
      "2         E01000677     Bromley  Violence Against the Person   \n",
      "3         E01003774   Redbridge                     Burglary   \n",
      "4         E01004563  Wandsworth                      Robbery   \n",
      "...             ...         ...                          ...   \n",
      "13490599  E01000504       Brent              Criminal Damage   \n",
      "13490600  E01002504  Hillingdon                      Robbery   \n",
      "13490601  E01004165      Sutton                     Burglary   \n",
      "13490602  E01001134     Croydon                      Robbery   \n",
      "13490603  E01003413      Merton  Violence Against the Person   \n",
      "\n",
      "                       minor_category  value  year  month  \n",
      "0         Burglary in Other Buildings      0  2016     11  \n",
      "1                      Other violence      0  2016     11  \n",
      "2                      Other violence      0  2015      5  \n",
      "3         Burglary in Other Buildings      0  2016      3  \n",
      "4                   Personal Property      0  2008      6  \n",
      "...                               ...    ...   ...    ...  \n",
      "13490599  Criminal Damage To Dwelling      0  2015      2  \n",
      "13490600            Personal Property      1  2015      6  \n",
      "13490601       Burglary in a Dwelling      0  2011      2  \n",
      "13490602            Business Property      0  2011      5  \n",
      "13490603                 Wounding/GBH      0  2015      6  \n",
      "\n",
      "[13490604 rows x 7 columns]\n"
     ]
    }
   ],
   "source": [
    "london_crime=pd.read_csv('london_crime_by_lsoa.csv')\n",
    "print(london_crime)"
   ]
  },
  {
   "cell_type": "code",
   "execution_count": 3,
   "id": "ed7f574d-f2f2-4e81-a2f1-0aa47f1ae735",
   "metadata": {},
   "outputs": [
    {
     "data": {
      "text/html": [
       "<div>\n",
       "<style scoped>\n",
       "    .dataframe tbody tr th:only-of-type {\n",
       "        vertical-align: middle;\n",
       "    }\n",
       "\n",
       "    .dataframe tbody tr th {\n",
       "        vertical-align: top;\n",
       "    }\n",
       "\n",
       "    .dataframe thead th {\n",
       "        text-align: right;\n",
       "    }\n",
       "</style>\n",
       "<table border=\"1\" class=\"dataframe\">\n",
       "  <thead>\n",
       "    <tr style=\"text-align: right;\">\n",
       "      <th></th>\n",
       "      <th>lsoa_code</th>\n",
       "      <th>borough</th>\n",
       "      <th>major_category</th>\n",
       "      <th>minor_category</th>\n",
       "      <th>value</th>\n",
       "      <th>year</th>\n",
       "      <th>month</th>\n",
       "    </tr>\n",
       "  </thead>\n",
       "  <tbody>\n",
       "    <tr>\n",
       "      <th>0</th>\n",
       "      <td>E01001116</td>\n",
       "      <td>Croydon</td>\n",
       "      <td>Burglary</td>\n",
       "      <td>Burglary in Other Buildings</td>\n",
       "      <td>0</td>\n",
       "      <td>2016</td>\n",
       "      <td>11</td>\n",
       "    </tr>\n",
       "    <tr>\n",
       "      <th>1</th>\n",
       "      <td>E01001646</td>\n",
       "      <td>Greenwich</td>\n",
       "      <td>Violence Against the Person</td>\n",
       "      <td>Other violence</td>\n",
       "      <td>0</td>\n",
       "      <td>2016</td>\n",
       "      <td>11</td>\n",
       "    </tr>\n",
       "    <tr>\n",
       "      <th>2</th>\n",
       "      <td>E01000677</td>\n",
       "      <td>Bromley</td>\n",
       "      <td>Violence Against the Person</td>\n",
       "      <td>Other violence</td>\n",
       "      <td>0</td>\n",
       "      <td>2015</td>\n",
       "      <td>5</td>\n",
       "    </tr>\n",
       "    <tr>\n",
       "      <th>3</th>\n",
       "      <td>E01003774</td>\n",
       "      <td>Redbridge</td>\n",
       "      <td>Burglary</td>\n",
       "      <td>Burglary in Other Buildings</td>\n",
       "      <td>0</td>\n",
       "      <td>2016</td>\n",
       "      <td>3</td>\n",
       "    </tr>\n",
       "  </tbody>\n",
       "</table>\n",
       "</div>"
      ],
      "text/plain": [
       "   lsoa_code    borough               major_category  \\\n",
       "0  E01001116    Croydon                     Burglary   \n",
       "1  E01001646  Greenwich  Violence Against the Person   \n",
       "2  E01000677    Bromley  Violence Against the Person   \n",
       "3  E01003774  Redbridge                     Burglary   \n",
       "\n",
       "                minor_category  value  year  month  \n",
       "0  Burglary in Other Buildings      0  2016     11  \n",
       "1               Other violence      0  2016     11  \n",
       "2               Other violence      0  2015      5  \n",
       "3  Burglary in Other Buildings      0  2016      3  "
      ]
     },
     "execution_count": 3,
     "metadata": {},
     "output_type": "execute_result"
    }
   ],
   "source": [
    "# 4 data teratas\n",
    "\n",
    "london_crime.head(4)"
   ]
  },
  {
   "cell_type": "code",
   "execution_count": 4,
   "id": "79f10dda-c097-4d7f-91d5-102fbf48c00f",
   "metadata": {},
   "outputs": [
    {
     "data": {
      "text/html": [
       "<div>\n",
       "<style scoped>\n",
       "    .dataframe tbody tr th:only-of-type {\n",
       "        vertical-align: middle;\n",
       "    }\n",
       "\n",
       "    .dataframe tbody tr th {\n",
       "        vertical-align: top;\n",
       "    }\n",
       "\n",
       "    .dataframe thead th {\n",
       "        text-align: right;\n",
       "    }\n",
       "</style>\n",
       "<table border=\"1\" class=\"dataframe\">\n",
       "  <thead>\n",
       "    <tr style=\"text-align: right;\">\n",
       "      <th></th>\n",
       "      <th>lsoa_code</th>\n",
       "      <th>borough</th>\n",
       "      <th>major_category</th>\n",
       "      <th>minor_category</th>\n",
       "      <th>value</th>\n",
       "      <th>year</th>\n",
       "      <th>month</th>\n",
       "    </tr>\n",
       "  </thead>\n",
       "  <tbody>\n",
       "    <tr>\n",
       "      <th>13490600</th>\n",
       "      <td>E01002504</td>\n",
       "      <td>Hillingdon</td>\n",
       "      <td>Robbery</td>\n",
       "      <td>Personal Property</td>\n",
       "      <td>1</td>\n",
       "      <td>2015</td>\n",
       "      <td>6</td>\n",
       "    </tr>\n",
       "    <tr>\n",
       "      <th>13490601</th>\n",
       "      <td>E01004165</td>\n",
       "      <td>Sutton</td>\n",
       "      <td>Burglary</td>\n",
       "      <td>Burglary in a Dwelling</td>\n",
       "      <td>0</td>\n",
       "      <td>2011</td>\n",
       "      <td>2</td>\n",
       "    </tr>\n",
       "    <tr>\n",
       "      <th>13490602</th>\n",
       "      <td>E01001134</td>\n",
       "      <td>Croydon</td>\n",
       "      <td>Robbery</td>\n",
       "      <td>Business Property</td>\n",
       "      <td>0</td>\n",
       "      <td>2011</td>\n",
       "      <td>5</td>\n",
       "    </tr>\n",
       "    <tr>\n",
       "      <th>13490603</th>\n",
       "      <td>E01003413</td>\n",
       "      <td>Merton</td>\n",
       "      <td>Violence Against the Person</td>\n",
       "      <td>Wounding/GBH</td>\n",
       "      <td>0</td>\n",
       "      <td>2015</td>\n",
       "      <td>6</td>\n",
       "    </tr>\n",
       "  </tbody>\n",
       "</table>\n",
       "</div>"
      ],
      "text/plain": [
       "          lsoa_code     borough               major_category  \\\n",
       "13490600  E01002504  Hillingdon                      Robbery   \n",
       "13490601  E01004165      Sutton                     Burglary   \n",
       "13490602  E01001134     Croydon                      Robbery   \n",
       "13490603  E01003413      Merton  Violence Against the Person   \n",
       "\n",
       "                  minor_category  value  year  month  \n",
       "13490600       Personal Property      1  2015      6  \n",
       "13490601  Burglary in a Dwelling      0  2011      2  \n",
       "13490602       Business Property      0  2011      5  \n",
       "13490603            Wounding/GBH      0  2015      6  "
      ]
     },
     "execution_count": 4,
     "metadata": {},
     "output_type": "execute_result"
    }
   ],
   "source": [
    "# 4 data terbawah\n",
    "\n",
    "london_crime.tail(4)"
   ]
  },
  {
   "cell_type": "code",
   "execution_count": 5,
   "id": "0f8015a5-e63c-4a08-b1ad-c1d30540563b",
   "metadata": {},
   "outputs": [
    {
     "name": "stdout",
     "output_type": "stream",
     "text": [
      "<class 'pandas.core.frame.DataFrame'>\n",
      "RangeIndex: 13490604 entries, 0 to 13490603\n",
      "Data columns (total 7 columns):\n",
      " #   Column          Dtype \n",
      "---  ------          ----- \n",
      " 0   lsoa_code       object\n",
      " 1   borough         object\n",
      " 2   major_category  object\n",
      " 3   minor_category  object\n",
      " 4   value           int64 \n",
      " 5   year            int64 \n",
      " 6   month           int64 \n",
      "dtypes: int64(3), object(4)\n",
      "memory usage: 720.5+ MB\n"
     ]
    }
   ],
   "source": [
    "# informasi dasar dataframe\n",
    "\n",
    "london_crime.info()"
   ]
  },
  {
   "cell_type": "code",
   "execution_count": 6,
   "id": "496c7625-dca9-474e-9903-c93ffa8471bf",
   "metadata": {},
   "outputs": [
    {
     "data": {
      "text/plain": [
       "array(['lsoa_code', 'borough', 'major_category', 'minor_category',\n",
       "       'value', 'year', 'month'], dtype=object)"
      ]
     },
     "execution_count": 6,
     "metadata": {},
     "output_type": "execute_result"
    }
   ],
   "source": [
    "# list header\n",
    "\n",
    "london_crime.columns.values"
   ]
  },
  {
   "cell_type": "code",
   "execution_count": 7,
   "id": "eefba95a-d7f0-4605-8feb-677d974c996f",
   "metadata": {},
   "outputs": [
    {
     "data": {
      "text/plain": [
       "array([       0,        1,        2, ..., 13490601, 13490602, 13490603],\n",
       "      dtype=int64)"
      ]
     },
     "execution_count": 7,
     "metadata": {},
     "output_type": "execute_result"
    }
   ],
   "source": [
    "# daftar index dataframe\n",
    "\n",
    "london_crime.index.values"
   ]
  },
  {
   "cell_type": "code",
   "execution_count": 8,
   "id": "fcb30d67-ca93-4855-876b-c2f196c03aaa",
   "metadata": {},
   "outputs": [
    {
     "data": {
      "text/plain": [
       "(13490604, 7)"
      ]
     },
     "execution_count": 8,
     "metadata": {},
     "output_type": "execute_result"
    }
   ],
   "source": [
    "# dimensi dataframe (baris, kolom)\n",
    "\n",
    "london_crime.shape"
   ]
  },
  {
   "cell_type": "markdown",
   "id": "3174ab26-f69b-4c33-b264-4dffc317f721",
   "metadata": {},
   "source": [
    "## Filter"
   ]
  },
  {
   "cell_type": "markdown",
   "id": "c5650eca-4c6c-4aee-931e-adda380ad00a",
   "metadata": {},
   "source": [
    "#### 1. kriminal di London dengan value 1"
   ]
  },
  {
   "cell_type": "code",
   "execution_count": 9,
   "id": "320f4361-dda7-4318-80e0-d266ecbd416f",
   "metadata": {},
   "outputs": [
    {
     "data": {
      "text/html": [
       "<div>\n",
       "<style scoped>\n",
       "    .dataframe tbody tr th:only-of-type {\n",
       "        vertical-align: middle;\n",
       "    }\n",
       "\n",
       "    .dataframe tbody tr th {\n",
       "        vertical-align: top;\n",
       "    }\n",
       "\n",
       "    .dataframe thead th {\n",
       "        text-align: right;\n",
       "    }\n",
       "</style>\n",
       "<table border=\"1\" class=\"dataframe\">\n",
       "  <thead>\n",
       "    <tr style=\"text-align: right;\">\n",
       "      <th></th>\n",
       "      <th>lsoa_code</th>\n",
       "      <th>borough</th>\n",
       "      <th>major_category</th>\n",
       "      <th>minor_category</th>\n",
       "      <th>value</th>\n",
       "      <th>year</th>\n",
       "      <th>month</th>\n",
       "    </tr>\n",
       "  </thead>\n",
       "  <tbody>\n",
       "    <tr>\n",
       "      <th>9</th>\n",
       "      <td>E01004177</td>\n",
       "      <td>Sutton</td>\n",
       "      <td>Theft and Handling</td>\n",
       "      <td>Theft/Taking of Pedal Cycle</td>\n",
       "      <td>1</td>\n",
       "      <td>2016</td>\n",
       "      <td>8</td>\n",
       "    </tr>\n",
       "    <tr>\n",
       "      <th>16</th>\n",
       "      <td>E01000086</td>\n",
       "      <td>Barking and Dagenham</td>\n",
       "      <td>Theft and Handling</td>\n",
       "      <td>Other Theft Person</td>\n",
       "      <td>1</td>\n",
       "      <td>2009</td>\n",
       "      <td>5</td>\n",
       "    </tr>\n",
       "    <tr>\n",
       "      <th>25</th>\n",
       "      <td>E01001794</td>\n",
       "      <td>Hackney</td>\n",
       "      <td>Violence Against the Person</td>\n",
       "      <td>Harassment</td>\n",
       "      <td>1</td>\n",
       "      <td>2013</td>\n",
       "      <td>2</td>\n",
       "    </tr>\n",
       "    <tr>\n",
       "      <th>32</th>\n",
       "      <td>E01000733</td>\n",
       "      <td>Bromley</td>\n",
       "      <td>Criminal Damage</td>\n",
       "      <td>Criminal Damage To Motor Vehicle</td>\n",
       "      <td>1</td>\n",
       "      <td>2016</td>\n",
       "      <td>4</td>\n",
       "    </tr>\n",
       "    <tr>\n",
       "      <th>43</th>\n",
       "      <td>E01001193</td>\n",
       "      <td>Croydon</td>\n",
       "      <td>Theft and Handling</td>\n",
       "      <td>Other Theft</td>\n",
       "      <td>1</td>\n",
       "      <td>2014</td>\n",
       "      <td>5</td>\n",
       "    </tr>\n",
       "  </tbody>\n",
       "</table>\n",
       "</div>"
      ],
      "text/plain": [
       "    lsoa_code               borough               major_category  \\\n",
       "9   E01004177                Sutton           Theft and Handling   \n",
       "16  E01000086  Barking and Dagenham           Theft and Handling   \n",
       "25  E01001794               Hackney  Violence Against the Person   \n",
       "32  E01000733               Bromley              Criminal Damage   \n",
       "43  E01001193               Croydon           Theft and Handling   \n",
       "\n",
       "                      minor_category  value  year  month  \n",
       "9        Theft/Taking of Pedal Cycle      1  2016      8  \n",
       "16                Other Theft Person      1  2009      5  \n",
       "25                        Harassment      1  2013      2  \n",
       "32  Criminal Damage To Motor Vehicle      1  2016      4  \n",
       "43                       Other Theft      1  2014      5  "
      ]
     },
     "execution_count": 9,
     "metadata": {},
     "output_type": "execute_result"
    }
   ],
   "source": [
    "criminal_value=london_crime[london_crime['value']==1]\n",
    "criminal_value.head(5)"
   ]
  },
  {
   "cell_type": "markdown",
   "id": "625324ff-138e-4827-b90f-52fa4f944043",
   "metadata": {},
   "source": [
    "#### 2. Data kiriminal dengan value tertinggi"
   ]
  },
  {
   "cell_type": "code",
   "execution_count": 10,
   "id": "19c4df16-1d06-4bd8-8e81-b17f9861486c",
   "metadata": {},
   "outputs": [
    {
     "data": {
      "text/plain": [
       "13490599    0\n",
       "13490600    1\n",
       "13490601    0\n",
       "13490602    0\n",
       "13490603    0\n",
       "Name: value, dtype: int64"
      ]
     },
     "execution_count": 10,
     "metadata": {},
     "output_type": "execute_result"
    }
   ],
   "source": [
    "value_crime=london_crime['value']\n",
    "value_crime.tail(5)"
   ]
  },
  {
   "cell_type": "code",
   "execution_count": 11,
   "id": "65d587fd-b471-471b-adeb-0938f8c08a1b",
   "metadata": {},
   "outputs": [
    {
     "data": {
      "text/plain": [
       "309"
      ]
     },
     "execution_count": 11,
     "metadata": {},
     "output_type": "execute_result"
    }
   ],
   "source": [
    "# nilai value tertinggi\n",
    "\n",
    "max(value_crime)"
   ]
  },
  {
   "cell_type": "code",
   "execution_count": 12,
   "id": "f690b30c-d09b-483a-ac35-c507940dd6b7",
   "metadata": {},
   "outputs": [
    {
     "data": {
      "text/html": [
       "<div>\n",
       "<style scoped>\n",
       "    .dataframe tbody tr th:only-of-type {\n",
       "        vertical-align: middle;\n",
       "    }\n",
       "\n",
       "    .dataframe tbody tr th {\n",
       "        vertical-align: top;\n",
       "    }\n",
       "\n",
       "    .dataframe thead th {\n",
       "        text-align: right;\n",
       "    }\n",
       "</style>\n",
       "<table border=\"1\" class=\"dataframe\">\n",
       "  <thead>\n",
       "    <tr style=\"text-align: right;\">\n",
       "      <th></th>\n",
       "      <th>lsoa_code</th>\n",
       "      <th>borough</th>\n",
       "      <th>major_category</th>\n",
       "      <th>minor_category</th>\n",
       "      <th>value</th>\n",
       "      <th>year</th>\n",
       "      <th>month</th>\n",
       "    </tr>\n",
       "  </thead>\n",
       "  <tbody>\n",
       "    <tr>\n",
       "      <th>1608904</th>\n",
       "      <td>E01004234</td>\n",
       "      <td>Tower Hamlets</td>\n",
       "      <td>Drugs</td>\n",
       "      <td>Possession Of Drugs</td>\n",
       "      <td>309</td>\n",
       "      <td>2012</td>\n",
       "      <td>6</td>\n",
       "    </tr>\n",
       "  </tbody>\n",
       "</table>\n",
       "</div>"
      ],
      "text/plain": [
       "         lsoa_code        borough major_category       minor_category  value  \\\n",
       "1608904  E01004234  Tower Hamlets          Drugs  Possession Of Drugs    309   \n",
       "\n",
       "         year  month  \n",
       "1608904  2012      6  "
      ]
     },
     "execution_count": 12,
     "metadata": {},
     "output_type": "execute_result"
    }
   ],
   "source": [
    "# data kirimial dengan value tertinggi=309\n",
    "\n",
    "criminal_value=london_crime[london_crime['value']==309]\n",
    "criminal_value.head(5)"
   ]
  },
  {
   "cell_type": "markdown",
   "id": "837eb20d-9139-4e2f-b9e1-a1a781cf5329",
   "metadata": {},
   "source": [
    "#### 3. Data Kririminal Pada 2015"
   ]
  },
  {
   "cell_type": "code",
   "execution_count": 13,
   "id": "72981deb-fdcc-4a1a-ac7f-c8ee487bbc5d",
   "metadata": {},
   "outputs": [
    {
     "data": {
      "text/html": [
       "<div>\n",
       "<style scoped>\n",
       "    .dataframe tbody tr th:only-of-type {\n",
       "        vertical-align: middle;\n",
       "    }\n",
       "\n",
       "    .dataframe tbody tr th {\n",
       "        vertical-align: top;\n",
       "    }\n",
       "\n",
       "    .dataframe thead th {\n",
       "        text-align: right;\n",
       "    }\n",
       "</style>\n",
       "<table border=\"1\" class=\"dataframe\">\n",
       "  <thead>\n",
       "    <tr style=\"text-align: right;\">\n",
       "      <th></th>\n",
       "      <th>lsoa_code</th>\n",
       "      <th>borough</th>\n",
       "      <th>major_category</th>\n",
       "      <th>minor_category</th>\n",
       "      <th>value</th>\n",
       "      <th>year</th>\n",
       "      <th>month</th>\n",
       "    </tr>\n",
       "  </thead>\n",
       "  <tbody>\n",
       "    <tr>\n",
       "      <th>2</th>\n",
       "      <td>E01000677</td>\n",
       "      <td>Bromley</td>\n",
       "      <td>Violence Against the Person</td>\n",
       "      <td>Other violence</td>\n",
       "      <td>0</td>\n",
       "      <td>2015</td>\n",
       "      <td>5</td>\n",
       "    </tr>\n",
       "    <tr>\n",
       "      <th>11</th>\n",
       "      <td>E01003076</td>\n",
       "      <td>Lambeth</td>\n",
       "      <td>Violence Against the Person</td>\n",
       "      <td>Other violence</td>\n",
       "      <td>0</td>\n",
       "      <td>2015</td>\n",
       "      <td>4</td>\n",
       "    </tr>\n",
       "    <tr>\n",
       "      <th>28</th>\n",
       "      <td>E01001972</td>\n",
       "      <td>Haringey</td>\n",
       "      <td>Violence Against the Person</td>\n",
       "      <td>Wounding/GBH</td>\n",
       "      <td>0</td>\n",
       "      <td>2015</td>\n",
       "      <td>12</td>\n",
       "    </tr>\n",
       "    <tr>\n",
       "      <th>31</th>\n",
       "      <td>E01002634</td>\n",
       "      <td>Hounslow</td>\n",
       "      <td>Criminal Damage</td>\n",
       "      <td>Criminal Damage To Motor Vehicle</td>\n",
       "      <td>0</td>\n",
       "      <td>2015</td>\n",
       "      <td>2</td>\n",
       "    </tr>\n",
       "    <tr>\n",
       "      <th>39</th>\n",
       "      <td>E01003947</td>\n",
       "      <td>Southwark</td>\n",
       "      <td>Drugs</td>\n",
       "      <td>Possession Of Drugs</td>\n",
       "      <td>0</td>\n",
       "      <td>2015</td>\n",
       "      <td>3</td>\n",
       "    </tr>\n",
       "  </tbody>\n",
       "</table>\n",
       "</div>"
      ],
      "text/plain": [
       "    lsoa_code    borough               major_category  \\\n",
       "2   E01000677    Bromley  Violence Against the Person   \n",
       "11  E01003076    Lambeth  Violence Against the Person   \n",
       "28  E01001972   Haringey  Violence Against the Person   \n",
       "31  E01002634   Hounslow              Criminal Damage   \n",
       "39  E01003947  Southwark                        Drugs   \n",
       "\n",
       "                      minor_category  value  year  month  \n",
       "2                     Other violence      0  2015      5  \n",
       "11                    Other violence      0  2015      4  \n",
       "28                      Wounding/GBH      0  2015     12  \n",
       "31  Criminal Damage To Motor Vehicle      0  2015      2  \n",
       "39               Possession Of Drugs      0  2015      3  "
      ]
     },
     "execution_count": 13,
     "metadata": {},
     "output_type": "execute_result"
    }
   ],
   "source": [
    "crime2015=london_crime[london_crime['year']==2015]\n",
    "crime2015.head(5)"
   ]
  },
  {
   "cell_type": "markdown",
   "id": "fbb401bc-1b7b-4db6-ab76-56db1e36b970",
   "metadata": {},
   "source": [
    "#### 3. Data Kririminal di wilayah Bromley"
   ]
  },
  {
   "cell_type": "code",
   "execution_count": 14,
   "id": "33b937b3-81ad-45bb-b739-8d9094f42869",
   "metadata": {},
   "outputs": [
    {
     "data": {
      "text/html": [
       "<div>\n",
       "<style scoped>\n",
       "    .dataframe tbody tr th:only-of-type {\n",
       "        vertical-align: middle;\n",
       "    }\n",
       "\n",
       "    .dataframe tbody tr th {\n",
       "        vertical-align: top;\n",
       "    }\n",
       "\n",
       "    .dataframe thead th {\n",
       "        text-align: right;\n",
       "    }\n",
       "</style>\n",
       "<table border=\"1\" class=\"dataframe\">\n",
       "  <thead>\n",
       "    <tr style=\"text-align: right;\">\n",
       "      <th></th>\n",
       "      <th>lsoa_code</th>\n",
       "      <th>major_category</th>\n",
       "      <th>minor_category</th>\n",
       "      <th>value</th>\n",
       "      <th>year</th>\n",
       "      <th>month</th>\n",
       "    </tr>\n",
       "    <tr>\n",
       "      <th>borough</th>\n",
       "      <th></th>\n",
       "      <th></th>\n",
       "      <th></th>\n",
       "      <th></th>\n",
       "      <th></th>\n",
       "      <th></th>\n",
       "    </tr>\n",
       "  </thead>\n",
       "  <tbody>\n",
       "    <tr>\n",
       "      <th>Bromley</th>\n",
       "      <td>E01000677</td>\n",
       "      <td>Violence Against the Person</td>\n",
       "      <td>Other violence</td>\n",
       "      <td>0</td>\n",
       "      <td>2015</td>\n",
       "      <td>5</td>\n",
       "    </tr>\n",
       "    <tr>\n",
       "      <th>Bromley</th>\n",
       "      <td>E01000733</td>\n",
       "      <td>Criminal Damage</td>\n",
       "      <td>Criminal Damage To Motor Vehicle</td>\n",
       "      <td>1</td>\n",
       "      <td>2016</td>\n",
       "      <td>4</td>\n",
       "    </tr>\n",
       "    <tr>\n",
       "      <th>Bromley</th>\n",
       "      <td>E01000713</td>\n",
       "      <td>Violence Against the Person</td>\n",
       "      <td>Offensive Weapon</td>\n",
       "      <td>0</td>\n",
       "      <td>2009</td>\n",
       "      <td>12</td>\n",
       "    </tr>\n",
       "    <tr>\n",
       "      <th>Bromley</th>\n",
       "      <td>E01000808</td>\n",
       "      <td>Robbery</td>\n",
       "      <td>Personal Property</td>\n",
       "      <td>0</td>\n",
       "      <td>2014</td>\n",
       "      <td>6</td>\n",
       "    </tr>\n",
       "    <tr>\n",
       "      <th>Bromley</th>\n",
       "      <td>E01000723</td>\n",
       "      <td>Theft and Handling</td>\n",
       "      <td>Motor Vehicle Interference &amp; Tampering</td>\n",
       "      <td>0</td>\n",
       "      <td>2009</td>\n",
       "      <td>3</td>\n",
       "    </tr>\n",
       "    <tr>\n",
       "      <th>...</th>\n",
       "      <td>...</td>\n",
       "      <td>...</td>\n",
       "      <td>...</td>\n",
       "      <td>...</td>\n",
       "      <td>...</td>\n",
       "      <td>...</td>\n",
       "    </tr>\n",
       "    <tr>\n",
       "      <th>Bromley</th>\n",
       "      <td>E01000663</td>\n",
       "      <td>Other Notifiable Offences</td>\n",
       "      <td>Other Notifiable</td>\n",
       "      <td>0</td>\n",
       "      <td>2012</td>\n",
       "      <td>9</td>\n",
       "    </tr>\n",
       "    <tr>\n",
       "      <th>Bromley</th>\n",
       "      <td>E01032563</td>\n",
       "      <td>Criminal Damage</td>\n",
       "      <td>Other Criminal Damage</td>\n",
       "      <td>2</td>\n",
       "      <td>2015</td>\n",
       "      <td>5</td>\n",
       "    </tr>\n",
       "    <tr>\n",
       "      <th>Bromley</th>\n",
       "      <td>E01000738</td>\n",
       "      <td>Burglary</td>\n",
       "      <td>Burglary in a Dwelling</td>\n",
       "      <td>1</td>\n",
       "      <td>2009</td>\n",
       "      <td>1</td>\n",
       "    </tr>\n",
       "    <tr>\n",
       "      <th>Bromley</th>\n",
       "      <td>E01000789</td>\n",
       "      <td>Violence Against the Person</td>\n",
       "      <td>Harassment</td>\n",
       "      <td>3</td>\n",
       "      <td>2009</td>\n",
       "      <td>12</td>\n",
       "    </tr>\n",
       "    <tr>\n",
       "      <th>Bromley</th>\n",
       "      <td>E01000655</td>\n",
       "      <td>Theft and Handling</td>\n",
       "      <td>Theft From Shops</td>\n",
       "      <td>0</td>\n",
       "      <td>2010</td>\n",
       "      <td>7</td>\n",
       "    </tr>\n",
       "  </tbody>\n",
       "</table>\n",
       "<p>523908 rows × 6 columns</p>\n",
       "</div>"
      ],
      "text/plain": [
       "         lsoa_code               major_category  \\\n",
       "borough                                           \n",
       "Bromley  E01000677  Violence Against the Person   \n",
       "Bromley  E01000733              Criminal Damage   \n",
       "Bromley  E01000713  Violence Against the Person   \n",
       "Bromley  E01000808                      Robbery   \n",
       "Bromley  E01000723           Theft and Handling   \n",
       "...            ...                          ...   \n",
       "Bromley  E01000663    Other Notifiable Offences   \n",
       "Bromley  E01032563              Criminal Damage   \n",
       "Bromley  E01000738                     Burglary   \n",
       "Bromley  E01000789  Violence Against the Person   \n",
       "Bromley  E01000655           Theft and Handling   \n",
       "\n",
       "                                 minor_category  value  year  month  \n",
       "borough                                                              \n",
       "Bromley                          Other violence      0  2015      5  \n",
       "Bromley        Criminal Damage To Motor Vehicle      1  2016      4  \n",
       "Bromley                        Offensive Weapon      0  2009     12  \n",
       "Bromley                       Personal Property      0  2014      6  \n",
       "Bromley  Motor Vehicle Interference & Tampering      0  2009      3  \n",
       "...                                         ...    ...   ...    ...  \n",
       "Bromley                        Other Notifiable      0  2012      9  \n",
       "Bromley                   Other Criminal Damage      2  2015      5  \n",
       "Bromley                  Burglary in a Dwelling      1  2009      1  \n",
       "Bromley                              Harassment      3  2009     12  \n",
       "Bromley                        Theft From Shops      0  2010      7  \n",
       "\n",
       "[523908 rows x 6 columns]"
      ]
     },
     "execution_count": 14,
     "metadata": {},
     "output_type": "execute_result"
    }
   ],
   "source": [
    "london_crime.set_index('borough', inplace=True)\n",
    "\n",
    "Bromley=london_crime.loc['Bromley']\n",
    "Bromley"
   ]
  },
  {
   "cell_type": "markdown",
   "id": "eec90ece-ceb9-4762-a4b4-1f13406d7741",
   "metadata": {},
   "source": [
    "#### 3. Data Kririminal Pada 2015 di wilayah Bromley"
   ]
  },
  {
   "cell_type": "code",
   "execution_count": 15,
   "id": "adedd5c9-9aad-4de0-a69a-42e6e9494d71",
   "metadata": {},
   "outputs": [
    {
     "data": {
      "text/html": [
       "<div>\n",
       "<style scoped>\n",
       "    .dataframe tbody tr th:only-of-type {\n",
       "        vertical-align: middle;\n",
       "    }\n",
       "\n",
       "    .dataframe tbody tr th {\n",
       "        vertical-align: top;\n",
       "    }\n",
       "\n",
       "    .dataframe thead th {\n",
       "        text-align: right;\n",
       "    }\n",
       "</style>\n",
       "<table border=\"1\" class=\"dataframe\">\n",
       "  <thead>\n",
       "    <tr style=\"text-align: right;\">\n",
       "      <th></th>\n",
       "      <th>lsoa_code</th>\n",
       "      <th>major_category</th>\n",
       "      <th>minor_category</th>\n",
       "      <th>value</th>\n",
       "      <th>year</th>\n",
       "      <th>month</th>\n",
       "    </tr>\n",
       "    <tr>\n",
       "      <th>borough</th>\n",
       "      <th></th>\n",
       "      <th></th>\n",
       "      <th></th>\n",
       "      <th></th>\n",
       "      <th></th>\n",
       "      <th></th>\n",
       "    </tr>\n",
       "  </thead>\n",
       "  <tbody>\n",
       "    <tr>\n",
       "      <th>Bromley</th>\n",
       "      <td>E01000677</td>\n",
       "      <td>Violence Against the Person</td>\n",
       "      <td>Other violence</td>\n",
       "      <td>0</td>\n",
       "      <td>2015</td>\n",
       "      <td>5</td>\n",
       "    </tr>\n",
       "    <tr>\n",
       "      <th>Bromley</th>\n",
       "      <td>E01000829</td>\n",
       "      <td>Criminal Damage</td>\n",
       "      <td>Criminal Damage To Other Building</td>\n",
       "      <td>0</td>\n",
       "      <td>2015</td>\n",
       "      <td>9</td>\n",
       "    </tr>\n",
       "    <tr>\n",
       "      <th>Bromley</th>\n",
       "      <td>E01032562</td>\n",
       "      <td>Criminal Damage</td>\n",
       "      <td>Other Criminal Damage</td>\n",
       "      <td>0</td>\n",
       "      <td>2015</td>\n",
       "      <td>12</td>\n",
       "    </tr>\n",
       "    <tr>\n",
       "      <th>Bromley</th>\n",
       "      <td>E01000656</td>\n",
       "      <td>Robbery</td>\n",
       "      <td>Personal Property</td>\n",
       "      <td>0</td>\n",
       "      <td>2015</td>\n",
       "      <td>3</td>\n",
       "    </tr>\n",
       "    <tr>\n",
       "      <th>Bromley</th>\n",
       "      <td>E01000765</td>\n",
       "      <td>Violence Against the Person</td>\n",
       "      <td>Harassment</td>\n",
       "      <td>3</td>\n",
       "      <td>2015</td>\n",
       "      <td>10</td>\n",
       "    </tr>\n",
       "  </tbody>\n",
       "</table>\n",
       "</div>"
      ],
      "text/plain": [
       "         lsoa_code               major_category  \\\n",
       "borough                                           \n",
       "Bromley  E01000677  Violence Against the Person   \n",
       "Bromley  E01000829              Criminal Damage   \n",
       "Bromley  E01032562              Criminal Damage   \n",
       "Bromley  E01000656                      Robbery   \n",
       "Bromley  E01000765  Violence Against the Person   \n",
       "\n",
       "                            minor_category  value  year  month  \n",
       "borough                                                         \n",
       "Bromley                     Other violence      0  2015      5  \n",
       "Bromley  Criminal Damage To Other Building      0  2015      9  \n",
       "Bromley              Other Criminal Damage      0  2015     12  \n",
       "Bromley                  Personal Property      0  2015      3  \n",
       "Bromley                         Harassment      3  2015     10  "
      ]
     },
     "execution_count": 15,
     "metadata": {},
     "output_type": "execute_result"
    }
   ],
   "source": [
    "Crime_Bromley_2015=Bromley[Bromley['year']==2015]\n",
    "Crime_Bromley_2015.head(5)"
   ]
  },
  {
   "cell_type": "markdown",
   "id": "48df58c2-6475-445c-8626-9fd22eb07c2e",
   "metadata": {},
   "source": [
    "## Visualisasi"
   ]
  },
  {
   "cell_type": "code",
   "execution_count": 54,
   "id": "5ed808e0-f9d3-41e8-ab00-a68a981580d0",
   "metadata": {},
   "outputs": [],
   "source": [
    "%matplotlib inline\n",
    "\n",
    "import matplotlib as mpl\n",
    "import matplotlib.pyplot as plt"
   ]
  },
  {
   "cell_type": "code",
   "execution_count": 55,
   "id": "ee22c020-082c-4a27-a6f5-20ba0beb70a5",
   "metadata": {},
   "outputs": [
    {
     "name": "stdout",
     "output_type": "stream",
     "text": [
      "Matplotlib version: 3.3.4\n",
      "['Solarize_Light2', '_classic_test_patch', 'bmh', 'classic', 'dark_background', 'fast', 'fivethirtyeight', 'ggplot', 'grayscale', 'seaborn', 'seaborn-bright', 'seaborn-colorblind', 'seaborn-dark', 'seaborn-dark-palette', 'seaborn-darkgrid', 'seaborn-deep', 'seaborn-muted', 'seaborn-notebook', 'seaborn-paper', 'seaborn-pastel', 'seaborn-poster', 'seaborn-talk', 'seaborn-ticks', 'seaborn-white', 'seaborn-whitegrid', 'tableau-colorblind10']\n"
     ]
    }
   ],
   "source": [
    "print('Matplotlib version:', mpl.__version__)\n",
    "\n",
    "print(plt.style.available)\n",
    "mpl.style.use(['ggplot'])"
   ]
  },
  {
   "cell_type": "markdown",
   "id": "ee53d114-a353-4a5c-971b-48d069d0b881",
   "metadata": {},
   "source": [
    "#### Total kriminal yang terjadi di wilayah Croydon dari tahun 2018-2016"
   ]
  },
  {
   "cell_type": "code",
   "execution_count": 56,
   "id": "1642aaf3-0d5f-4adb-9a75-0f1b8746faa8",
   "metadata": {},
   "outputs": [
    {
     "data": {
      "text/html": [
       "<div>\n",
       "<style scoped>\n",
       "    .dataframe tbody tr th:only-of-type {\n",
       "        vertical-align: middle;\n",
       "    }\n",
       "\n",
       "    .dataframe tbody tr th {\n",
       "        vertical-align: top;\n",
       "    }\n",
       "\n",
       "    .dataframe thead th {\n",
       "        text-align: right;\n",
       "    }\n",
       "</style>\n",
       "<table border=\"1\" class=\"dataframe\">\n",
       "  <thead>\n",
       "    <tr style=\"text-align: right;\">\n",
       "      <th></th>\n",
       "      <th>lsoa_code</th>\n",
       "      <th>major_category</th>\n",
       "      <th>minor_category</th>\n",
       "      <th>value</th>\n",
       "      <th>year</th>\n",
       "      <th>month</th>\n",
       "    </tr>\n",
       "    <tr>\n",
       "      <th>borough</th>\n",
       "      <th></th>\n",
       "      <th></th>\n",
       "      <th></th>\n",
       "      <th></th>\n",
       "      <th></th>\n",
       "      <th></th>\n",
       "    </tr>\n",
       "  </thead>\n",
       "  <tbody>\n",
       "    <tr>\n",
       "      <th>Croydon</th>\n",
       "      <td>E01001116</td>\n",
       "      <td>Burglary</td>\n",
       "      <td>Burglary in Other Buildings</td>\n",
       "      <td>0</td>\n",
       "      <td>2016</td>\n",
       "      <td>11</td>\n",
       "    </tr>\n",
       "    <tr>\n",
       "      <th>Croydon</th>\n",
       "      <td>E01001029</td>\n",
       "      <td>Drugs</td>\n",
       "      <td>Possession Of Drugs</td>\n",
       "      <td>0</td>\n",
       "      <td>2010</td>\n",
       "      <td>12</td>\n",
       "    </tr>\n",
       "    <tr>\n",
       "      <th>Croydon</th>\n",
       "      <td>E01001193</td>\n",
       "      <td>Theft and Handling</td>\n",
       "      <td>Other Theft</td>\n",
       "      <td>1</td>\n",
       "      <td>2014</td>\n",
       "      <td>5</td>\n",
       "    </tr>\n",
       "    <tr>\n",
       "      <th>Croydon</th>\n",
       "      <td>E01001171</td>\n",
       "      <td>Violence Against the Person</td>\n",
       "      <td>Offensive Weapon</td>\n",
       "      <td>0</td>\n",
       "      <td>2012</td>\n",
       "      <td>12</td>\n",
       "    </tr>\n",
       "    <tr>\n",
       "      <th>Croydon</th>\n",
       "      <td>E01000996</td>\n",
       "      <td>Drugs</td>\n",
       "      <td>Drug Trafficking</td>\n",
       "      <td>0</td>\n",
       "      <td>2008</td>\n",
       "      <td>2</td>\n",
       "    </tr>\n",
       "  </tbody>\n",
       "</table>\n",
       "</div>"
      ],
      "text/plain": [
       "         lsoa_code               major_category               minor_category  \\\n",
       "borough                                                                        \n",
       "Croydon  E01001116                     Burglary  Burglary in Other Buildings   \n",
       "Croydon  E01001029                        Drugs          Possession Of Drugs   \n",
       "Croydon  E01001193           Theft and Handling                  Other Theft   \n",
       "Croydon  E01001171  Violence Against the Person             Offensive Weapon   \n",
       "Croydon  E01000996                        Drugs             Drug Trafficking   \n",
       "\n",
       "         value  year  month  \n",
       "borough                      \n",
       "Croydon      0  2016     11  \n",
       "Croydon      0  2010     12  \n",
       "Croydon      1  2014      5  \n",
       "Croydon      0  2012     12  \n",
       "Croydon      0  2008      2  "
      ]
     },
     "execution_count": 56,
     "metadata": {},
     "output_type": "execute_result"
    }
   ],
   "source": [
    "Croydon=london_crime.loc['Croydon']\n",
    "Croydon.head(5)"
   ]
  },
  {
   "cell_type": "code",
   "execution_count": 64,
   "id": "93382548-03fa-48d2-a285-0374feeea396",
   "metadata": {},
   "outputs": [
    {
     "name": "stdout",
     "output_type": "stream",
     "text": [
      "      value\n",
      "year       \n",
      "2008  29516\n",
      "2009  29784\n",
      "2010  29373\n",
      "2011  29830\n",
      "2012  30189\n",
      "2013  27444\n",
      "2014  27357\n",
      "2015  28089\n",
      "2016  28712\n"
     ]
    },
    {
     "data": {
      "image/png": "[encoded data removed]",
      "text/plain": [
       "<Figure size 432x288 with 1 Axes>"
      ]
     },
     "metadata": {},
     "output_type": "display_data"
    }
   ],
   "source": [
    "Croydon1=Croydon.drop('month', axis=1)\n",
    "tahun = Croydon1.groupby('year', axis=0).sum()\n",
    "print(tahun)\n",
    "\n",
    "tahun.plot()\n",
    "\n",
    "plt.title('Jumlah Kriminal di Croydon Sejal 2008 hingga 2016')\n",
    "plt.ylabel('Jumlah Kriminal')\n",
    "plt.xlabel('Tahun')\n",
    "\n",
    "plt.show()"
   ]
  },
  {
   "cell_type": "code",
   "execution_count": 120,
   "id": "26582bb5-e7ed-4e4f-8d3e-f9b176e965cf",
   "metadata": {},
   "outputs": [
    {
     "data": {
      "image/png": "[encoded data removed]",
      "text/plain": [
       "<Figure size 720x360 with 1 Axes>"
      ]
     },
     "metadata": {},
     "output_type": "display_data"
    }
   ],
   "source": [
    "tahun.plot(kind='area', stacked=False, alpha=0.75, figsize=(10,5), color='green')\n",
    "\n",
    "plt.title('Jumlah Kriminal di Croydon dari tahun 2008 hingga 2016')\n",
    "plt.ylabel('Jumlah Kriminal')\n",
    "plt.xlabel('Bulan')\n",
    "\n",
    "plt.show()"
   ]
  },
  {
   "cell_type": "code",
   "execution_count": 121,
   "id": "94ddebc5-888e-404b-8229-e6b60782996f",
   "metadata": {},
   "outputs": [
    {
     "data": {
      "image/png": "[encoded data removed]",
      "text/plain": [
       "<Figure size 720x360 with 1 Axes>"
      ]
     },
     "metadata": {},
     "output_type": "display_data"
    }
   ],
   "source": [
    "tahun.plot(kind='bar', stacked=False, alpha=0.75, figsize=(10,5), color='purple')\n",
    "\n",
    "plt.title('Jumlah Kriminal di Croydon dari tahun 2008 hingga 2016')\n",
    "plt.ylabel('Jumlah Kriminal')\n",
    "plt.xlabel('Bulan')\n",
    "\n",
    "plt.show()"
   ]
  },
  {
   "cell_type": "code",
   "execution_count": null,
   "id": "4950ab72-f1b9-4054-a4b0-c89faf37f95e",
   "metadata": {},
   "outputs": [],
   "source": [
    "bulan.plot(kind='area', stacked=False, alpha=0.75, figsize=(10,5), color='green')\n",
    "\n",
    "plt.title('Jumlah Kriminal di Croydon pada Tahun 2016')\n",
    "plt.ylabel('Jumlah Kriminal')\n",
    "plt.xlabel('Bulan')\n",
    "\n",
    "plt.show()"
   ]
  },
  {
   "cell_type": "markdown",
   "id": "26f3288e-3e4a-4c83-8ec1-5ae645d338dd",
   "metadata": {},
   "source": [
    "#### Total kriminal Sepanjang Tahun 2016 di wilayah Croydon dari tahun 2016"
   ]
  },
  {
   "cell_type": "code",
   "execution_count": 65,
   "id": "e7773b06-b0fb-4ee0-b0a7-10770a2e0da3",
   "metadata": {},
   "outputs": [
    {
     "data": {
      "text/html": [
       "<div>\n",
       "<style scoped>\n",
       "    .dataframe tbody tr th:only-of-type {\n",
       "        vertical-align: middle;\n",
       "    }\n",
       "\n",
       "    .dataframe tbody tr th {\n",
       "        vertical-align: top;\n",
       "    }\n",
       "\n",
       "    .dataframe thead th {\n",
       "        text-align: right;\n",
       "    }\n",
       "</style>\n",
       "<table border=\"1\" class=\"dataframe\">\n",
       "  <thead>\n",
       "    <tr style=\"text-align: right;\">\n",
       "      <th></th>\n",
       "      <th>lsoa_code</th>\n",
       "      <th>major_category</th>\n",
       "      <th>minor_category</th>\n",
       "      <th>value</th>\n",
       "      <th>year</th>\n",
       "      <th>month</th>\n",
       "    </tr>\n",
       "    <tr>\n",
       "      <th>borough</th>\n",
       "      <th></th>\n",
       "      <th></th>\n",
       "      <th></th>\n",
       "      <th></th>\n",
       "      <th></th>\n",
       "      <th></th>\n",
       "    </tr>\n",
       "  </thead>\n",
       "  <tbody>\n",
       "    <tr>\n",
       "      <th>Croydon</th>\n",
       "      <td>E01001116</td>\n",
       "      <td>Burglary</td>\n",
       "      <td>Burglary in Other Buildings</td>\n",
       "      <td>0</td>\n",
       "      <td>2016</td>\n",
       "      <td>11</td>\n",
       "    </tr>\n",
       "    <tr>\n",
       "      <th>Croydon</th>\n",
       "      <td>E01001162</td>\n",
       "      <td>Robbery</td>\n",
       "      <td>Personal Property</td>\n",
       "      <td>0</td>\n",
       "      <td>2016</td>\n",
       "      <td>1</td>\n",
       "    </tr>\n",
       "    <tr>\n",
       "      <th>Croydon</th>\n",
       "      <td>E01001139</td>\n",
       "      <td>Theft and Handling</td>\n",
       "      <td>Motor Vehicle Interference &amp; Tampering</td>\n",
       "      <td>0</td>\n",
       "      <td>2016</td>\n",
       "      <td>3</td>\n",
       "    </tr>\n",
       "    <tr>\n",
       "      <th>Croydon</th>\n",
       "      <td>E01001100</td>\n",
       "      <td>Violence Against the Person</td>\n",
       "      <td>Wounding/GBH</td>\n",
       "      <td>0</td>\n",
       "      <td>2016</td>\n",
       "      <td>6</td>\n",
       "    </tr>\n",
       "    <tr>\n",
       "      <th>Croydon</th>\n",
       "      <td>E01001040</td>\n",
       "      <td>Theft and Handling</td>\n",
       "      <td>Other Theft Person</td>\n",
       "      <td>0</td>\n",
       "      <td>2016</td>\n",
       "      <td>2</td>\n",
       "    </tr>\n",
       "  </tbody>\n",
       "</table>\n",
       "</div>"
      ],
      "text/plain": [
       "         lsoa_code               major_category  \\\n",
       "borough                                           \n",
       "Croydon  E01001116                     Burglary   \n",
       "Croydon  E01001162                      Robbery   \n",
       "Croydon  E01001139           Theft and Handling   \n",
       "Croydon  E01001100  Violence Against the Person   \n",
       "Croydon  E01001040           Theft and Handling   \n",
       "\n",
       "                                 minor_category  value  year  month  \n",
       "borough                                                              \n",
       "Croydon             Burglary in Other Buildings      0  2016     11  \n",
       "Croydon                       Personal Property      0  2016      1  \n",
       "Croydon  Motor Vehicle Interference & Tampering      0  2016      3  \n",
       "Croydon                            Wounding/GBH      0  2016      6  \n",
       "Croydon                      Other Theft Person      0  2016      2  "
      ]
     },
     "execution_count": 65,
     "metadata": {},
     "output_type": "execute_result"
    }
   ],
   "source": [
    "# Kriminal di Croydon tahun 2014\n",
    "\n",
    "Crime_Croydon_2016=Croydon[Croydon['year']==2016]\n",
    "Crime_Croydon_2016.head(5)"
   ]
  },
  {
   "cell_type": "code",
   "execution_count": 66,
   "id": "a65afa6a-fb4e-42c3-8aca-3466397a8dc9",
   "metadata": {},
   "outputs": [
    {
     "name": "stdout",
     "output_type": "stream",
     "text": [
      "       value\n",
      "month       \n",
      "1       2248\n",
      "2       2154\n",
      "3       2199\n",
      "4       2334\n",
      "5       2591\n",
      "6       2466\n",
      "7       2668\n",
      "8       2523\n",
      "9       2456\n",
      "10      2398\n",
      "11      2288\n",
      "12      2387\n"
     ]
    },
    {
     "data": {
      "image/png": "[encoded data removed]",
      "text/plain": [
       "<Figure size 432x288 with 1 Axes>"
      ]
     },
     "metadata": {},
     "output_type": "display_data"
    }
   ],
   "source": [
    "Croydon2=Crime_Croydon_2016.drop('year', axis=1)\n",
    "bulan = Croydon2.groupby('month', axis=0).sum()\n",
    "print(bulan)\n",
    "\n",
    "bulan.plot()\n",
    "\n",
    "plt.title('Jumlah Kriminal di Croydon pada Tahun 2016')\n",
    "plt.ylabel('Jumlah Kriminal')\n",
    "plt.xlabel('Bulan')\n",
    "\n",
    "plt.show()"
   ]
  },
  {
   "cell_type": "code",
   "execution_count": 111,
   "id": "bb2e2927-afb9-4fe9-8d75-57e13ef100fd",
   "metadata": {},
   "outputs": [
    {
     "data": {
      "image/png": "[encoded data removed]",
      "text/plain": [
       "<Figure size 720x360 with 1 Axes>"
      ]
     },
     "metadata": {},
     "output_type": "display_data"
    }
   ],
   "source": [
    "bulan.plot(kind='area', stacked=False, alpha=0.75, figsize=(10,5), color='green')\n",
    "\n",
    "plt.title('Jumlah Kriminal di Croydon pada Tahun 2016')\n",
    "plt.ylabel('Jumlah Kriminal')\n",
    "plt.xlabel('Bulan')\n",
    "\n",
    "plt.show()"
   ]
  },
  {
   "cell_type": "code",
   "execution_count": 112,
   "id": "681b3253-47ca-427d-b90a-c4e3f0beaca8",
   "metadata": {},
   "outputs": [
    {
     "data": {
      "image/png": "[encoded data removed]",
      "text/plain": [
       "<Figure size 720x360 with 1 Axes>"
      ]
     },
     "metadata": {},
     "output_type": "display_data"
    }
   ],
   "source": [
    "bulan.plot(kind='hist', stacked=False, alpha=0.75, figsize=(10,5), color='blue')\n",
    "\n",
    "plt.title('Jumlah Kriminal di Croydon pada Tahun 2016')\n",
    "plt.ylabel('Jumlah Kriminal')\n",
    "plt.xlabel('Bulan')\n",
    "\n",
    "plt.show()"
   ]
  },
  {
   "cell_type": "code",
   "execution_count": 115,
   "id": "2fb01e63-b027-44e0-b8c1-7cc10b72b1b2",
   "metadata": {},
   "outputs": [
    {
     "data": {
      "image/png": "[encoded data removed]",
      "text/plain": [
       "<Figure size 720x360 with 1 Axes>"
      ]
     },
     "metadata": {},
     "output_type": "display_data"
    }
   ],
   "source": [
    "bulan.plot(kind='bar', stacked=False, alpha=0.75, figsize=(10,5), color='red')\n",
    "\n",
    "plt.title('Jumlah Kriminal di Croydon pada Tahun 2016')\n",
    "plt.ylabel('Jumlah Kriminal')\n",
    "plt.xlabel('Bulan')\n",
    "\n",
    "plt.show()"
   ]
  },
  {
   "cell_type": "code",
   "execution_count": 124,
   "id": "437ea689-ceb3-4206-bb34-6047c3892f2d",
   "metadata": {},
   "outputs": [
    {
     "data": {
      "text/plain": [
       "Text(0.5, 1.12, 'Jumlah Kriminal di Croydon pada Tahun 2016')"
      ]
     },
     "execution_count": 124,
     "metadata": {},
     "output_type": "execute_result"
    },
    {
     "data": {
      "image/png": "[encoded data removed]",
      "text/plain": [
       "<Figure size 360x432 with 1 Axes>"
      ]
     },
     "metadata": {},
     "output_type": "display_data"
    }
   ],
   "source": [
    "bulan['value'].plot(\n",
    "    kind=\"pie\",\n",
    "    figsize=(5,6),\n",
    "    autopct=\"%1.1f%%\",\n",
    "    startangle=0\n",
    ")\n",
    "\n",
    "plt.title(\"Jumlah Kriminal di Croydon pada Tahun 2016\", y=1.12)"
   ]
  },
  {
   "cell_type": "code",
   "execution_count": 126,
   "id": "e0650e8b-c9e3-42be-96ae-d60b397c3d45",
   "metadata": {},
   "outputs": [
    {
     "data": {
      "text/plain": [
       "Text(0.5, 1.0, 'Jumlah Kriminal di Croydon pada Tahun 2016')"
      ]
     },
     "execution_count": 126,
     "metadata": {},
     "output_type": "execute_result"
    },
    {
     "data": {
      "image/png": "[encoded data removed]",
      "text/plain": [
       "<Figure size 432x288 with 1 Axes>"
      ]
     },
     "metadata": {},
     "output_type": "display_data"
    }
   ],
   "source": [
    "bulan.plot(kind=\"box\")\n",
    "plt.title(\"Jumlah Kriminal di Croydon pada Tahun 2016\")"
   ]
  },
  {
   "cell_type": "code",
   "execution_count": null,
   "id": "faba98ff-b5ac-4b03-998c-f0786d3446db",
   "metadata": {},
   "outputs": [],
   "source": []
  },
  {
   "cell_type": "code",
   "execution_count": null,
   "id": "1309a2fe-b442-4196-84ff-7262d583f4cf",
   "metadata": {},
   "outputs": [],
   "source": []
  },
  {
   "cell_type": "code",
   "execution_count": null,
   "id": "095d6d49-2d5a-4dc7-9b1b-ddd48ee3781d",
   "metadata": {},
   "outputs": [],
   "source": []
  },
  {
   "cell_type": "code",
   "execution_count": null,
   "id": "207ad8cf-abc6-4bc4-bef6-a967483504c5",
   "metadata": {},
   "outputs": [],
   "source": []
  },
  {
   "cell_type": "code",
   "execution_count": null,
   "id": "f268bf67-a35b-4147-a5da-e6af3ed81ffd",
   "metadata": {},
   "outputs": [],
   "source": []
  }
 ],
 "metadata": {
  "kernelspec": {
   "display_name": "Python 3",
   "language": "python",
   "name": "python3"
  },
  "language_info": {
   "codemirror_mode": {
    "name": "ipython",
    "version": 3
   },
   "file_extension": ".py",
   "mimetype": "text/x-python",
   "name": "python",
   "nbconvert_exporter": "python",
   "pygments_lexer": "ipython3",
   "version": "3.8.8"
  }
 },
 "nbformat": 4,
 "nbformat_minor": 5
}
